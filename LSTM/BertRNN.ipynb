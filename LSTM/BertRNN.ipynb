{
 "cells": [
  {
   "cell_type": "code",
   "execution_count": 4,
   "id": "4ae2c2ee-cc6b-49bd-93db-026d5e77183e",
   "metadata": {},
   "outputs": [],
   "source": [
    "import pandas as pd\n",
    "import torch\n",
    "import torch.nn as nn\n",
    "from sklearn.model_selection import train_test_split, KFold\n",
    "from torch.utils.data import Dataset, DataLoader\n",
    "from transformers import AutoModel, BertTokenizer\n",
    "from torch.optim import Adam\n",
    "from torch.nn import CrossEntropyLoss\n",
    "from tqdm.auto import tqdm\n",
    "import csv\n",
    "from torch.optim.lr_scheduler import StepLR\n",
    "import time"
   ]
  },
  {
   "cell_type": "code",
   "execution_count": 5,
   "id": "d647e455-c785-4876-9833-daf11cba71f0",
   "metadata": {},
   "outputs": [],
   "source": [
    "#Define custom dataset\n",
    "class CustomTextDataset(Dataset):\n",
    "    def __init__(self, texts, labels, tokenizer, max_len):\n",
    "        self.texts = texts\n",
    "        self.labels = labels\n",
    "        self.tokenizer = tokenizer\n",
    "        self.max_len = max_len\n",
    "\n",
    "    def __len__(self):\n",
    "        return len(self.texts)\n",
    "\n",
    "    def __getitem__(self, idx):\n",
    "        text = self.texts[idx]\n",
    "        label = self.labels[idx]\n",
    "        encoding = self.tokenizer(\n",
    "            text,\n",
    "            add_special_tokens=True,\n",
    "            max_length=self.max_len,\n",
    "            return_token_type_ids=False,\n",
    "            padding='max_length',\n",
    "            truncation=True,\n",
    "            return_attention_mask=True,\n",
    "            return_tensors='pt',\n",
    "        )\n",
    "        return {\n",
    "            'input_ids': encoding['input_ids'].squeeze(0),  \n",
    "            'attention_mask': encoding['attention_mask'].squeeze(0),\n",
    "            'labels': torch.tensor(label, dtype=torch.long)\n",
    "        }\n",
    "\n",
    "class BertRNN(nn.Module):\n",
    "    def __init__(self, bert_model, rnn_hidden_dim, num_labels):\n",
    "        super(BertRNN, self).__init__()\n",
    "        self.bert = bert_model\n",
    "        self.bert.requires_grad_(False)  # Freeze BERT parameters\n",
    "        self.rnn = nn.RNN(bert_model.config.hidden_size, rnn_hidden_dim, batch_first=True, bidirectional=True)\n",
    "        self.classifier = nn.Linear(rnn_hidden_dim * 2, num_labels)  # Adjust dimension for bidirectional\n",
    "\n",
    "    def forward(self, input_ids, attention_mask):\n",
    "        outputs = self.bert(input_ids=input_ids, attention_mask=attention_mask)\n",
    "        sequence_output = outputs.last_hidden_state\n",
    "        rnn_output, _ = self.rnn(sequence_output)\n",
    "        cls_output = rnn_output[:, 0, :]  \n",
    "        logits = self.classifier(cls_output)\n",
    "        return logits"
   ]
  },
  {
   "cell_type": "code",
   "execution_count": 6,
   "id": "8fd4cbf0-eba9-4c89-b338-5da8943c6769",
   "metadata": {},
   "outputs": [],
   "source": [
    "# Define Focal Loss \n",
    "class FocalLoss(nn.Module):\n",
    "    def __init__(self, alpha, gamma, num_labels, reduction):\n",
    "        super(FocalLoss, self).__init__()\n",
    "        self.alpha = alpha\n",
    "        self.gamma = gamma\n",
    "        self.num_labels = num_labels\n",
    "        self.reduction = reduction\n",
    "\n",
    "    def forward(self, inputs, targets):\n",
    "        BCE_loss = F.cross_entropy(inputs, targets, reduction='none')\n",
    "        pt = torch.exp(-BCE_loss)\n",
    "        F_loss = self.alpha * (1-pt)**self.gamma * BCE_loss\n",
    "        if self.reduction == 'mean':\n",
    "            return F_loss.mean()\n",
    "        elif self.reduction == 'sum':\n",
    "            return F_loss.sum()\n",
    "        else:\n",
    "            return F_loss"
   ]
  },
  {
   "cell_type": "code",
   "execution_count": 7,
   "id": "314ce892-524b-48dd-8d04-4d4bb8773b04",
   "metadata": {},
   "outputs": [],
   "source": [
    "# Record hyperparameters as csv\n",
    "def write_hyperparameters(filepath, hyperparams):\n",
    "    with open(filepath, mode='w', newline='') as file:\n",
    "        writer = csv.writer(file)\n",
    "        writer.writerow(['Hyperparameters'])\n",
    "        for key, value in hyperparams.items():\n",
    "            writer.writerow([key, value])\n",
    "        writer.writerow([])\n",
    "        writer.writerow(['Fold', 'Epoch', 'Train Loss', 'Train Accuracy', 'Validation Loss', 'Validation Accuracy', 'Learning Rate'])\n",
    "\n",
    "\n",
    "# Define hyperparameters\n",
    "hyperparams = {\n",
    "    'rnn_hidden_dim': 128,\n",
    "    'max_len': 128,\n",
    "    'batch_size': 8,\n",
    "    'learning_rate': 0.0001,\n",
    "    'num_epochs': 5,\n",
    "    'alpha': 0.25,\n",
    "    'gamma': 2.0,\n",
    "    'reduction': 'mean'\n",
    "}"
   ]
  },
  {
   "cell_type": "code",
   "execution_count": 8,
   "id": "dfa7026c-7908-48e3-8eda-f472c8c200c3",
   "metadata": {},
   "outputs": [
    {
     "name": "stderr",
     "output_type": "stream",
     "text": [
      "Some weights of BertModel were not initialized from the model checkpoint at ../Bert/FYP-Bert_model(multiple) and are newly initialized: ['bert.pooler.dense.bias', 'bert.pooler.dense.weight']\n",
      "You should probably TRAIN this model on a down-stream task to be able to use it for predictions and inference.\n"
     ]
    }
   ],
   "source": [
    "# Data loading and preprocessing\n",
    "tokenizer = BertTokenizer.from_pretrained('../Bert/FYP-Bert_model(multiple)')\n",
    "bert_model = AutoModel.from_pretrained('../Bert/FYP-Bert_model(multiple)')\n",
    "df = pd.read_csv('../Web_scraping_and_Data_preproecssing/preprocessed_data.csv')\n",
    "label_map = {label: i for i, label in enumerate(df['Classification'].unique())}\n",
    "texts = df['Title_preprocessed'].tolist()\n",
    "labels = [label_map[label] for label in df['Classification']]\n",
    "num_labels = len(df['Classification'].unique())\n",
    "\n",
    "# Spliting datasets\n",
    "X_train, X_test, y_train, y_test = train_test_split(texts, labels, test_size=0.2, random_state=42)\n",
    "\n",
    "train_dataset = CustomTextDataset(X_train, y_train, tokenizer, max_len=hyperparams['max_len'])\n",
    "test_dataset = CustomTextDataset(X_test, y_test, tokenizer, max_len=hyperparams['max_len'])"
   ]
  },
  {
   "cell_type": "code",
   "execution_count": 9,
   "id": "a698f8e1-3718-4fe2-b304-75afc1b3752a",
   "metadata": {},
   "outputs": [],
   "source": [
    "def train(model, train_loader, optimizer, criterion, device):\n",
    "    model.train()\n",
    "    total_loss = 0\n",
    "    correct_predictions = 0\n",
    "    total_predictions = 0\n",
    "    \n",
    "    progress_bar = tqdm(train_loader, desc='Training', leave=False)\n",
    "    for batch in progress_bar:\n",
    "        optimizer.zero_grad()\n",
    "        input_ids = batch['input_ids'].to(device)\n",
    "        attention_mask = batch['attention_mask'].to(device)\n",
    "        labels = batch['labels'].to(device)\n",
    "        \n",
    "        outputs = model(input_ids, attention_mask)\n",
    "        loss = criterion(outputs, labels)\n",
    "        \n",
    "        loss.backward()\n",
    "        optimizer.step()\n",
    "        \n",
    "        total_loss += loss.item()\n",
    "        \n",
    "        _, predicted_labels = torch.max(outputs, dim=1)\n",
    "        correct_predictions += torch.sum(predicted_labels == labels).item()\n",
    "        total_predictions += labels.size(0)\n",
    "        \n",
    "        progress_bar.set_postfix({'Loss': loss.item()})\n",
    "    \n",
    "    average_loss = total_loss / len(train_loader)\n",
    "    train_accuracy = correct_predictions / total_predictions\n",
    "    return average_loss, train_accuracy\n",
    "\n",
    "\n",
    "def evaluate(model, loader, criterion, device):\n",
    "    model.eval()\n",
    "    total_loss = 0\n",
    "    correct_predictions = 0\n",
    "    with torch.no_grad():\n",
    "        for batch in loader:\n",
    "            input_ids = batch['input_ids'].to(device)\n",
    "            attention_mask = batch['attention_mask'].to(device)\n",
    "            labels = batch['labels'].to(device)\n",
    "            outputs = model(input_ids, attention_mask)\n",
    "            loss = criterion(outputs, labels)\n",
    "            total_loss += loss.item()\n",
    "            _, predicted_labels = torch.max(outputs, dim=1)\n",
    "            correct_predictions += torch.sum(predicted_labels == labels).item()\n",
    "    average_loss = total_loss / len(loader)\n",
    "    accuracy = correct_predictions / len(loader.dataset)\n",
    "    return average_loss, accuracy"
   ]
  },
  {
   "cell_type": "code",
   "execution_count": 10,
   "id": "424e5dc3-0ca1-4a29-844d-62e0c5e463db",
   "metadata": {},
   "outputs": [
    {
     "data": {
      "application/vnd.jupyter.widget-view+json": {
       "model_id": "",
       "version_major": 2,
       "version_minor": 0
      },
      "text/plain": [
       "Training:   0%|          | 0/538 [00:00<?, ?it/s]"
      ]
     },
     "metadata": {},
     "output_type": "display_data"
    },
    {
     "name": "stdout",
     "output_type": "stream",
     "text": [
      "Fold 1, Epoch 1, Train Loss: 2.8028, Train Accuracy: 0.2576, Valid Loss: 2.5594, Valid Accuracy: 0.3108\n"
     ]
    },
    {
     "data": {
      "application/vnd.jupyter.widget-view+json": {
       "model_id": "",
       "version_major": 2,
       "version_minor": 0
      },
      "text/plain": [
       "Training:   0%|          | 0/538 [00:00<?, ?it/s]"
      ]
     },
     "metadata": {},
     "output_type": "display_data"
    },
    {
     "name": "stdout",
     "output_type": "stream",
     "text": [
      "Fold 1, Epoch 2, Train Loss: 2.4962, Train Accuracy: 0.3423, Valid Loss: 2.3739, Valid Accuracy: 0.3676\n"
     ]
    },
    {
     "data": {
      "application/vnd.jupyter.widget-view+json": {
       "model_id": "",
       "version_major": 2,
       "version_minor": 0
      },
      "text/plain": [
       "Training:   0%|          | 0/538 [00:00<?, ?it/s]"
      ]
     },
     "metadata": {},
     "output_type": "display_data"
    },
    {
     "name": "stdout",
     "output_type": "stream",
     "text": [
      "Fold 1, Epoch 3, Train Loss: 2.3111, Train Accuracy: 0.3853, Valid Loss: 2.2324, Valid Accuracy: 0.3997\n"
     ]
    },
    {
     "data": {
      "application/vnd.jupyter.widget-view+json": {
       "model_id": "",
       "version_major": 2,
       "version_minor": 0
      },
      "text/plain": [
       "Training:   0%|          | 0/538 [00:00<?, ?it/s]"
      ]
     },
     "metadata": {},
     "output_type": "display_data"
    },
    {
     "name": "stdout",
     "output_type": "stream",
     "text": [
      "Fold 1, Epoch 4, Train Loss: 2.1698, Train Accuracy: 0.4158, Valid Loss: 2.1419, Valid Accuracy: 0.4151\n"
     ]
    },
    {
     "data": {
      "application/vnd.jupyter.widget-view+json": {
       "model_id": "",
       "version_major": 2,
       "version_minor": 0
      },
      "text/plain": [
       "Training:   0%|          | 0/538 [00:00<?, ?it/s]"
      ]
     },
     "metadata": {},
     "output_type": "display_data"
    },
    {
     "name": "stdout",
     "output_type": "stream",
     "text": [
      "Fold 1, Epoch 5, Train Loss: 2.0737, Train Accuracy: 0.4239, Valid Loss: 2.0831, Valid Accuracy: 0.4337\n"
     ]
    },
    {
     "data": {
      "application/vnd.jupyter.widget-view+json": {
       "model_id": "",
       "version_major": 2,
       "version_minor": 0
      },
      "text/plain": [
       "Training:   0%|          | 0/538 [00:00<?, ?it/s]"
      ]
     },
     "metadata": {},
     "output_type": "display_data"
    },
    {
     "name": "stdout",
     "output_type": "stream",
     "text": [
      "Fold 2, Epoch 1, Train Loss: 2.8009, Train Accuracy: 0.2557, Valid Loss: 2.5580, Valid Accuracy: 0.3309\n"
     ]
    },
    {
     "data": {
      "application/vnd.jupyter.widget-view+json": {
       "model_id": "",
       "version_major": 2,
       "version_minor": 0
      },
      "text/plain": [
       "Training:   0%|          | 0/538 [00:00<?, ?it/s]"
      ]
     },
     "metadata": {},
     "output_type": "display_data"
    },
    {
     "name": "stdout",
     "output_type": "stream",
     "text": [
      "Fold 2, Epoch 2, Train Loss: 2.4838, Train Accuracy: 0.3381, Valid Loss: 2.3573, Valid Accuracy: 0.3760\n"
     ]
    },
    {
     "data": {
      "application/vnd.jupyter.widget-view+json": {
       "model_id": "",
       "version_major": 2,
       "version_minor": 0
      },
      "text/plain": [
       "Training:   0%|          | 0/538 [00:00<?, ?it/s]"
      ]
     },
     "metadata": {},
     "output_type": "display_data"
    },
    {
     "name": "stdout",
     "output_type": "stream",
     "text": [
      "Fold 2, Epoch 3, Train Loss: 2.3000, Train Accuracy: 0.3862, Valid Loss: 2.2180, Valid Accuracy: 0.4076\n"
     ]
    },
    {
     "data": {
      "application/vnd.jupyter.widget-view+json": {
       "model_id": "",
       "version_major": 2,
       "version_minor": 0
      },
      "text/plain": [
       "Training:   0%|          | 0/538 [00:00<?, ?it/s]"
      ]
     },
     "metadata": {},
     "output_type": "display_data"
    },
    {
     "name": "stdout",
     "output_type": "stream",
     "text": [
      "Fold 2, Epoch 4, Train Loss: 2.1497, Train Accuracy: 0.4281, Valid Loss: 2.1452, Valid Accuracy: 0.4267\n"
     ]
    },
    {
     "data": {
      "application/vnd.jupyter.widget-view+json": {
       "model_id": "",
       "version_major": 2,
       "version_minor": 0
      },
      "text/plain": [
       "Training:   0%|          | 0/538 [00:00<?, ?it/s]"
      ]
     },
     "metadata": {},
     "output_type": "display_data"
    },
    {
     "name": "stdout",
     "output_type": "stream",
     "text": [
      "Fold 2, Epoch 5, Train Loss: 2.0639, Train Accuracy: 0.4339, Valid Loss: 2.0883, Valid Accuracy: 0.4346\n"
     ]
    },
    {
     "data": {
      "application/vnd.jupyter.widget-view+json": {
       "model_id": "",
       "version_major": 2,
       "version_minor": 0
      },
      "text/plain": [
       "Training:   0%|          | 0/538 [00:00<?, ?it/s]"
      ]
     },
     "metadata": {},
     "output_type": "display_data"
    },
    {
     "name": "stdout",
     "output_type": "stream",
     "text": [
      "Fold 3, Epoch 1, Train Loss: 2.7557, Train Accuracy: 0.2713, Valid Loss: 2.6172, Valid Accuracy: 0.2880\n"
     ]
    },
    {
     "data": {
      "application/vnd.jupyter.widget-view+json": {
       "model_id": "",
       "version_major": 2,
       "version_minor": 0
      },
      "text/plain": [
       "Training:   0%|          | 0/538 [00:00<?, ?it/s]"
      ]
     },
     "metadata": {},
     "output_type": "display_data"
    },
    {
     "name": "stdout",
     "output_type": "stream",
     "text": [
      "Fold 3, Epoch 2, Train Loss: 2.4614, Train Accuracy: 0.3418, Valid Loss: 2.4272, Valid Accuracy: 0.3485\n"
     ]
    },
    {
     "data": {
      "application/vnd.jupyter.widget-view+json": {
       "model_id": "",
       "version_major": 2,
       "version_minor": 0
      },
      "text/plain": [
       "Training:   0%|          | 0/538 [00:00<?, ?it/s]"
      ]
     },
     "metadata": {},
     "output_type": "display_data"
    },
    {
     "name": "stdout",
     "output_type": "stream",
     "text": [
      "Fold 3, Epoch 3, Train Loss: 2.2797, Train Accuracy: 0.3886, Valid Loss: 2.2998, Valid Accuracy: 0.3765\n"
     ]
    },
    {
     "data": {
      "application/vnd.jupyter.widget-view+json": {
       "model_id": "",
       "version_major": 2,
       "version_minor": 0
      },
      "text/plain": [
       "Training:   0%|          | 0/538 [00:00<?, ?it/s]"
      ]
     },
     "metadata": {},
     "output_type": "display_data"
    },
    {
     "name": "stdout",
     "output_type": "stream",
     "text": [
      "Fold 3, Epoch 4, Train Loss: 2.1500, Train Accuracy: 0.4204, Valid Loss: 2.2065, Valid Accuracy: 0.3955\n"
     ]
    },
    {
     "data": {
      "application/vnd.jupyter.widget-view+json": {
       "model_id": "",
       "version_major": 2,
       "version_minor": 0
      },
      "text/plain": [
       "Training:   0%|          | 0/538 [00:00<?, ?it/s]"
      ]
     },
     "metadata": {},
     "output_type": "display_data"
    },
    {
     "name": "stdout",
     "output_type": "stream",
     "text": [
      "Fold 3, Epoch 5, Train Loss: 2.0535, Train Accuracy: 0.4388, Valid Loss: 2.1403, Valid Accuracy: 0.4169\n"
     ]
    }
   ],
   "source": [
    "# Set up 2-Fold cross validation\n",
    "kf = KFold(n_splits=3, shuffle=True, random_state=42)\n",
    "device = torch.device(\"cuda\" if torch.cuda.is_available() else \"cpu\")\n",
    "\n",
    "# Cross-validation process\n",
    "for fold, (train_idx, valid_idx) in enumerate(kf.split(X_train)):\n",
    "    train_texts = [X_train[i] for i in train_idx]\n",
    "    train_labels = [y_train[i] for i in train_idx]\n",
    "    valid_texts = [X_train[i] for i in valid_idx]\n",
    "    valid_labels = [y_train[i] for i in valid_idx]\n",
    "\n",
    "    train_subdataset = CustomTextDataset(train_texts, train_labels, tokenizer, max_len=hyperparams['max_len'])\n",
    "    valid_subdataset = CustomTextDataset(valid_texts, valid_labels, tokenizer, max_len=hyperparams['max_len'])\n",
    "\n",
    "    train_loader = DataLoader(train_subdataset, batch_size=hyperparams['batch_size'], shuffle=True)\n",
    "    valid_loader = DataLoader(valid_subdataset, batch_size=hyperparams['batch_size'])\n",
    "\n",
    "    model = BertRNN(bert_model, hyperparams['rnn_hidden_dim'], len(set(labels))).to(device)\n",
    "    optimizer = Adam(model.parameters(), lr=hyperparams['learning_rate'])\n",
    "    criterion = CrossEntropyLoss()\n",
    "    #criterion = FocalLoss(alpha=hyperparams['alpha'], gamma=hyperparams['gamma'], num_labels=num_labels, reduction=hyperparams['reduction'])\n",
    "    scheduler = StepLR(optimizer, step_size=10, gamma=0.1)\n",
    "\n",
    "\n",
    "    for epoch in range(hyperparams['num_epochs']):\n",
    "        train_loss, train_accuracy = train(model, train_loader, optimizer, criterion, device)\n",
    "        valid_loss, valid_accuracy = evaluate(model, valid_loader, criterion, device)\n",
    "        scheduler.step()\n",
    "\n",
    "        print(f'Fold {fold+1}, Epoch {epoch+1}, Train Loss: {train_loss:.4f}, Train Accuracy: {train_accuracy:.4f}, Valid Loss: {valid_loss:.4f}, Valid Accuracy: {valid_accuracy:.4f}')\n",
    "\n"
   ]
  },
  {
   "cell_type": "code",
   "execution_count": 11,
   "id": "a8f8f448-9e51-4bcf-b601-16139e27db71",
   "metadata": {},
   "outputs": [
    {
     "name": "stdout",
     "output_type": "stream",
     "text": [
      "Test Loss: 2.1320, Test Accuracy: 0.4156\n"
     ]
    }
   ],
   "source": [
    "# Test set evaluation\n",
    "test_loader = DataLoader(test_dataset, batch_size=8)\n",
    "test_loss, test_accuracy = evaluate(model, test_loader, criterion, device)\n",
    "print(f'Test Loss: {test_loss:.4f}, Test Accuracy: {test_accuracy:.4f}')"
   ]
  },
  {
   "cell_type": "code",
   "execution_count": 12,
   "id": "4f0fe7d4-bb17-430f-936f-bfd4ef8aa04c",
   "metadata": {},
   "outputs": [
    {
     "name": "stderr",
     "output_type": "stream",
     "text": [
      "C:\\ProgramData\\Anaconda3\\envs\\pytorch-notebook\\Lib\\site-packages\\sklearn\\metrics\\_classification.py:1497: UndefinedMetricWarning: Precision is ill-defined and being set to 0.0 in labels with no predicted samples. Use `zero_division` parameter to control this behavior.\n",
      "  _warn_prf(average, modifier, f\"{metric.capitalize()} is\", len(result))\n",
      "C:\\ProgramData\\Anaconda3\\envs\\pytorch-notebook\\Lib\\site-packages\\sklearn\\metrics\\_classification.py:1497: UndefinedMetricWarning: Precision is ill-defined and being set to 0.0 in labels with no predicted samples. Use `zero_division` parameter to control this behavior.\n",
      "  _warn_prf(average, modifier, f\"{metric.capitalize()} is\", len(result))\n",
      "C:\\ProgramData\\Anaconda3\\envs\\pytorch-notebook\\Lib\\site-packages\\sklearn\\metrics\\_classification.py:1497: UndefinedMetricWarning: Precision is ill-defined and being set to 0.0 in labels with no predicted samples. Use `zero_division` parameter to control this behavior.\n",
      "  _warn_prf(average, modifier, f\"{metric.capitalize()} is\", len(result))\n"
     ]
    },
    {
     "name": "stdout",
     "output_type": "stream",
     "text": [
      "Epoch 1:\n",
      "Precision: 0.3461519313360342\n",
      "Recall: 0.42431761786600497\n",
      "F1-Score: 0.3525783234821868\n"
     ]
    },
    {
     "name": "stderr",
     "output_type": "stream",
     "text": [
      "C:\\ProgramData\\Anaconda3\\envs\\pytorch-notebook\\Lib\\site-packages\\sklearn\\metrics\\_classification.py:1497: UndefinedMetricWarning: Precision is ill-defined and being set to 0.0 in labels with no predicted samples. Use `zero_division` parameter to control this behavior.\n",
      "  _warn_prf(average, modifier, f\"{metric.capitalize()} is\", len(result))\n",
      "C:\\ProgramData\\Anaconda3\\envs\\pytorch-notebook\\Lib\\site-packages\\sklearn\\metrics\\_classification.py:1497: UndefinedMetricWarning: Precision is ill-defined and being set to 0.0 in labels with no predicted samples. Use `zero_division` parameter to control this behavior.\n",
      "  _warn_prf(average, modifier, f\"{metric.capitalize()} is\", len(result))\n",
      "C:\\ProgramData\\Anaconda3\\envs\\pytorch-notebook\\Lib\\site-packages\\sklearn\\metrics\\_classification.py:1497: UndefinedMetricWarning: Precision is ill-defined and being set to 0.0 in labels with no predicted samples. Use `zero_division` parameter to control this behavior.\n",
      "  _warn_prf(average, modifier, f\"{metric.capitalize()} is\", len(result))\n"
     ]
    },
    {
     "name": "stdout",
     "output_type": "stream",
     "text": [
      "Epoch 2:\n",
      "Precision: 0.3625559722710519\n",
      "Recall: 0.423697270471464\n",
      "F1-Score: 0.37308582473038815\n",
      "Epoch 3:\n",
      "Precision: 0.3580235792589565\n",
      "Recall: 0.43300248138957814\n",
      "F1-Score: 0.36523807235083694\n"
     ]
    },
    {
     "name": "stderr",
     "output_type": "stream",
     "text": [
      "C:\\ProgramData\\Anaconda3\\envs\\pytorch-notebook\\Lib\\site-packages\\sklearn\\metrics\\_classification.py:1497: UndefinedMetricWarning: Precision is ill-defined and being set to 0.0 in labels with no predicted samples. Use `zero_division` parameter to control this behavior.\n",
      "  _warn_prf(average, modifier, f\"{metric.capitalize()} is\", len(result))\n",
      "C:\\ProgramData\\Anaconda3\\envs\\pytorch-notebook\\Lib\\site-packages\\sklearn\\metrics\\_classification.py:1497: UndefinedMetricWarning: Precision is ill-defined and being set to 0.0 in labels with no predicted samples. Use `zero_division` parameter to control this behavior.\n",
      "  _warn_prf(average, modifier, f\"{metric.capitalize()} is\", len(result))\n",
      "C:\\ProgramData\\Anaconda3\\envs\\pytorch-notebook\\Lib\\site-packages\\sklearn\\metrics\\_classification.py:1497: UndefinedMetricWarning: Precision is ill-defined and being set to 0.0 in labels with no predicted samples. Use `zero_division` parameter to control this behavior.\n",
      "  _warn_prf(average, modifier, f\"{metric.capitalize()} is\", len(result))\n"
     ]
    }
   ],
   "source": [
    "from sklearn.metrics import classification_report\n",
    "#Training and validation loop\n",
    "for epoch in range(3):\n",
    "    model.train()\n",
    "    for data in train_loader:\n",
    "        input_ids, attention_mask, labels = data['input_ids'].to(device), data['attention_mask'].to(device), data['labels'].to(device)\n",
    "        optimizer.zero_grad()\n",
    "        outputs = model(input_ids, attention_mask)\n",
    "        loss = criterion(outputs, labels)\n",
    "        loss.backward()\n",
    "        optimizer.step()\n",
    "    \n",
    "    model.eval()\n",
    "    all_preds = []\n",
    "    all_labels = []\n",
    "    with torch.no_grad():\n",
    "        for data in test_loader:\n",
    "            input_ids, attention_mask, labels = data['input_ids'].to(device), data['attention_mask'].to(device), data['labels'].to(device)\n",
    "            outputs = model(input_ids, attention_mask)\n",
    "            _, preds = torch.max(outputs, dim=1)\n",
    "            all_preds.extend(preds.cpu().numpy())\n",
    "            all_labels.extend(labels.cpu().numpy())\n",
    "    \n",
    "\n",
    "    classification_metrics = classification_report(all_labels, all_preds, output_dict=True)\n",
    "    print(f\"Epoch {epoch+1}:\")\n",
    "    print(f\"Precision: {classification_metrics['weighted avg']['precision']}\")\n",
    "    print(f\"Recall: {classification_metrics['weighted avg']['recall']}\")\n",
    "    print(f\"F1-Score: {classification_metrics['weighted avg']['f1-score']}\")\n",
    "\n",
    "scheduler.step()"
   ]
  }
 ],
 "metadata": {
  "kernelspec": {
   "display_name": "Python 3 (ipykernel)",
   "language": "python",
   "name": "python3"
  },
  "language_info": {
   "codemirror_mode": {
    "name": "ipython",
    "version": 3
   },
   "file_extension": ".py",
   "mimetype": "text/x-python",
   "name": "python",
   "nbconvert_exporter": "python",
   "pygments_lexer": "ipython3",
   "version": "3.11.7"
  }
 },
 "nbformat": 4,
 "nbformat_minor": 5
}
