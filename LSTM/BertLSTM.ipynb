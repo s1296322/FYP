{
 "cells": [
  {
   "cell_type": "code",
   "execution_count": 27,
   "id": "07fcaef1-c72d-4ce0-a1c5-d69d64e8b6fe",
   "metadata": {},
   "outputs": [],
   "source": [
    "import pandas as pd\n",
    "import torch\n",
    "import torch.nn as nn\n",
    "from sklearn.model_selection import train_test_split\n",
    "from torch.utils.data import Dataset, DataLoader, random_split, Subset\n",
    "from transformers import AutoModel, BertTokenizer, BertTokenizerFast\n",
    "from torch.optim import Adam\n",
    "from torch.nn import CrossEntropyLoss\n",
    "from tqdm.auto import tqdm\n",
    "import csv\n",
    "from torch.utils.tensorboard import SummaryWriter\n",
    "from torch.optim.lr_scheduler import StepLR\n",
    "import torch.nn.functional as F\n",
    "import time"
   ]
  },
  {
   "cell_type": "code",
   "execution_count": 28,
   "id": "a3b3643f-2400-4a2d-9adc-dbec345c5eea",
   "metadata": {},
   "outputs": [],
   "source": [
    "#Define custom dataset\n",
    "class CustomTextDataset(Dataset):\n",
    "    def __init__(self, texts, labels, tokenizer, max_len):\n",
    "        self.texts = texts\n",
    "        self.labels = labels\n",
    "        self.tokenizer = tokenizer\n",
    "        self.max_len = max_len\n",
    "\n",
    "    def __len__(self):\n",
    "        return len(self.texts)\n",
    "\n",
    "    def __getitem__(self, idx):\n",
    "        text = self.texts[idx]\n",
    "        label = self.labels[idx]\n",
    "        encoding = self.tokenizer(\n",
    "            text,\n",
    "            add_special_tokens=True,\n",
    "            max_length=self.max_len,\n",
    "            return_token_type_ids=False,\n",
    "            padding='max_length',\n",
    "            truncation=True,\n",
    "            return_attention_mask=True,\n",
    "            return_tensors='pt',\n",
    "        )\n",
    "        return {\n",
    "            'input_ids': encoding['input_ids'].squeeze(0),  \n",
    "            'attention_mask': encoding['attention_mask'].squeeze(0),\n",
    "            'labels': torch.tensor(label, dtype=torch.long)\n",
    "        }"
   ]
  },
  {
   "cell_type": "code",
   "execution_count": 29,
   "id": "1e51f2ed-268b-4389-acf0-b9edb0771e89",
   "metadata": {},
   "outputs": [],
   "source": [
    "class BertLSTM(nn.Module):\n",
    "    def __init__(self, bert_model, lstm_hidden_dim, num_labels):\n",
    "        super(BertLSTM, self).__init__()\n",
    "        self.bert = bert_model\n",
    "        self.bert.requires_grad_(False)  # Freeze BERT parameters\n",
    "        self.lstm = nn.LSTM(bert_model.config.hidden_size, lstm_hidden_dim, batch_first=True, bidirectional=True)\n",
    "        self.classifier = nn.Linear(lstm_hidden_dim * 2, num_labels)  # Correct dimension\n",
    "\n",
    "    def forward(self, input_ids, attention_mask):\n",
    "        outputs = self.bert(input_ids=input_ids, attention_mask=attention_mask)\n",
    "        sequence_output = outputs.last_hidden_state\n",
    "        lstm_output, _ = self.lstm(sequence_output)\n",
    "        cls_output = lstm_output[:, 0, :]\n",
    "        logits = self.classifier(cls_output)\n",
    "        return logits\n",
    "\n",
    "    "
   ]
  },
  {
   "cell_type": "code",
   "execution_count": 30,
   "id": "6859734d-d0ef-4047-915b-b0bc7731988a",
   "metadata": {},
   "outputs": [],
   "source": [
    "# Define Focal Loss \n",
    "class FocalLoss(nn.Module):\n",
    "    def __init__(self, alpha, gamma, num_labels, reduction):\n",
    "        super(FocalLoss, self).__init__()\n",
    "        self.alpha = alpha\n",
    "        self.gamma = gamma\n",
    "        self.num_labels = num_labels\n",
    "        self.reduction = reduction\n",
    "\n",
    "    def forward(self, inputs, targets):\n",
    "        BCE_loss = F.cross_entropy(inputs, targets, reduction='none')\n",
    "        pt = torch.exp(-BCE_loss)\n",
    "        F_loss = self.alpha * (1-pt)**self.gamma * BCE_loss\n",
    "        if self.reduction == 'mean':\n",
    "            return F_loss.mean()\n",
    "        elif self.reduction == 'sum':\n",
    "            return F_loss.sum()\n",
    "        else:\n",
    "            return F_loss"
   ]
  },
  {
   "cell_type": "code",
   "execution_count": 31,
   "id": "41ced245-49e7-456e-ab81-e4ff853024ca",
   "metadata": {},
   "outputs": [],
   "source": [
    "# Record hyperparameters as csv\n",
    "def write_hyperparameters(filepath, hyperparams):\n",
    "    with open(filepath, mode='w', newline='') as file:\n",
    "        writer = csv.writer(file)\n",
    "        writer.writerow(['Hyperparameters'])\n",
    "        for key, value in hyperparams.items():\n",
    "            writer.writerow([key, value])\n",
    "        writer.writerow([])\n",
    "        # 在这里添加 'Learning Rate'\n",
    "        writer.writerow(['Epoch', 'Train Loss', 'Train Accuracy', 'Validation Loss', 'Validation Accuracy', 'Learning Rate'])\n",
    "\n",
    "\n",
    "# Define hyperparameters\n",
    "hyperparams = {\n",
    "    'lstm_hidden_dim': 128,\n",
    "    'max_len': 128,\n",
    "    'batch_size': 8,\n",
    "    'learning_rate': 0.0001,\n",
    "    'num_epochs': 5,\n",
    "    'alpha': 0.25,\n",
    "    'gamma': 2.0,\n",
    "    'reduction': 'mean'\n",
    "}"
   ]
  },
  {
   "cell_type": "code",
   "execution_count": 33,
   "id": "18f19825-335f-484c-aa15-116fed864135",
   "metadata": {},
   "outputs": [],
   "source": [
    "import pickle\n",
    "\n",
    "#Read data\n",
    "df = pd.read_csv('../Web_scraping_and_Data_preproecssing/preprocessed_data.csv')\n",
    "# Load the pre-trained BERT model and Tokenizer\n",
    "#bert_model = AutoModel.from_pretrained('../Bert/FYP-Bert_model(multiple)')\n",
    "#tokenizer = BertTokenizer.from_pretrained('../Bert/FYP-Bert_model(multiple)')\n",
    "\n",
    "#bert_model = AutoModel.from_pretrained('../Bert/FYP-Bert_model(cn-only)')\n",
    "#tokenizer = BertTokenizer.from_pretrained('../Bert/FYP-Bert_model(cn-only)')\n",
    "\n",
    "bert_model = AutoModel.from_pretrained('bert-base-uncased')\n",
    "tokenizer = BertTokenizer.from_pretrained('bert-base-uncased')\n",
    "\n",
    "# Generate label mapping\n",
    "label_map = {label: i for i, label in enumerate(df['Classification'].unique())}\n",
    "# Reverse mapping\n",
    "reverse_label_map = {i: label for label, i in label_map.items()}"
   ]
  },
  {
   "cell_type": "code",
   "execution_count": 34,
   "id": "26313035-c89c-44af-b13d-fdf4f05ef3ff",
   "metadata": {},
   "outputs": [],
   "source": [
    "texts = df['Title_preprocessed'].tolist()\n",
    "labels = [label_map[label] for label in df['Classification']]\n",
    "\n",
    "# Stratified Sampling\n",
    "X_train, X_temp, y_train, y_temp = train_test_split(texts, labels, stratify=labels, test_size=0.3)\n",
    "X_val, X_test, y_val, y_test = train_test_split(X_temp, y_temp, stratify=y_temp, test_size=0.5)\n",
    "\n",
    "\n",
    "train_dataset = CustomTextDataset(X_train, y_train, tokenizer, max_len=hyperparams['max_len'])\n",
    "val_dataset = CustomTextDataset(X_val, y_val, tokenizer, max_len=hyperparams['max_len'])\n",
    "test_dataset = CustomTextDataset(X_test, y_test, tokenizer, max_len=hyperparams['max_len'])\n",
    "\n",
    "#Create data loader\n",
    "train_loader = DataLoader(train_dataset, batch_size=hyperparams['batch_size'], shuffle=True)\n",
    "val_loader = DataLoader(val_dataset, batch_size=hyperparams['batch_size'])\n",
    "test_loader = DataLoader(test_dataset, batch_size=hyperparams['batch_size'])"
   ]
  },
  {
   "cell_type": "code",
   "execution_count": 35,
   "id": "0c2b4bd3-2b16-4b22-bd6a-65d75bf5f02a",
   "metadata": {},
   "outputs": [],
   "source": [
    "# Create model\n",
    "num_labels = len(df['Classification'].unique())\n",
    "model = BertLSTM(bert_model, hyperparams['lstm_hidden_dim'], num_labels)\n",
    "\n",
    "#Create device\n",
    "device = torch.device(\"cuda\" if torch.cuda.is_available() else \"cpu\")\n",
    "model = model.to(device)"
   ]
  },
  {
   "cell_type": "code",
   "execution_count": 36,
   "id": "93b187a0-4d92-44ba-8751-c32b10ea1a40",
   "metadata": {},
   "outputs": [],
   "source": [
    "# Define optimizer and loss function\n",
    "optimizer = Adam(model.parameters(), lr=hyperparams['learning_rate'])\n",
    "criterion = FocalLoss(alpha=hyperparams['alpha'], gamma=hyperparams['gamma'], num_labels=num_labels, reduction=hyperparams['reduction'])\n",
    "scheduler = StepLR(optimizer, step_size=10, gamma=0.1)\n",
    "# CrossEntropyLoss function\n",
    "#criterion = CrossEntropyLoss() "
   ]
  },
  {
   "cell_type": "code",
   "execution_count": 37,
   "id": "aa35abe5-7e88-4f26-b844-6c54393d2709",
   "metadata": {},
   "outputs": [],
   "source": [
    "def train(model, train_loader, optimizer, criterion, device):\n",
    "    model.train()\n",
    "    total_loss = 0\n",
    "    correct_predictions = 0\n",
    "    total_predictions = 0\n",
    "    \n",
    "    progress_bar = tqdm(train_loader, desc='Training', leave=False)\n",
    "    for batch in progress_bar:\n",
    "        optimizer.zero_grad()\n",
    "        input_ids = batch['input_ids'].to(device)\n",
    "        attention_mask = batch['attention_mask'].to(device)\n",
    "        labels = batch['labels'].to(device)\n",
    "        \n",
    "        outputs = model(input_ids, attention_mask)\n",
    "        loss = criterion(outputs, labels)\n",
    "        \n",
    "        loss.backward()\n",
    "        optimizer.step()\n",
    "        \n",
    "        total_loss += loss.item()\n",
    "        \n",
    "        _, predicted_labels = torch.max(outputs, dim=1)\n",
    "        correct_predictions += torch.sum(predicted_labels == labels).item()\n",
    "        total_predictions += labels.size(0)\n",
    "        \n",
    "        progress_bar.set_postfix({'Loss': loss.item()})\n",
    "    \n",
    "    average_loss = total_loss / len(train_loader)\n",
    "    train_accuracy = correct_predictions / total_predictions\n",
    "    return average_loss, train_accuracy\n",
    "\n",
    "\n",
    "def evaluate(model, loader, criterion, device):\n",
    "    model.eval()\n",
    "    total_loss = 0\n",
    "    correct_predictions = 0\n",
    "    with torch.no_grad():\n",
    "        for batch in loader:\n",
    "            input_ids = batch['input_ids'].to(device)\n",
    "            attention_mask = batch['attention_mask'].to(device)\n",
    "            labels = batch['labels'].to(device)\n",
    "            outputs = model(input_ids, attention_mask)\n",
    "            loss = criterion(outputs, labels)\n",
    "            total_loss += loss.item()\n",
    "            _, predicted_labels = torch.max(outputs, dim=1)\n",
    "            correct_predictions += torch.sum(predicted_labels == labels).item()\n",
    "    average_loss = total_loss / len(loader)\n",
    "    accuracy = correct_predictions / len(loader.dataset)\n",
    "    return average_loss, accuracy"
   ]
  },
  {
   "cell_type": "code",
   "execution_count": 38,
   "id": "37aef4b9-8206-4b67-bc89-da79ef6de2f4",
   "metadata": {},
   "outputs": [
    {
     "data": {
      "application/vnd.jupyter.widget-view+json": {
       "model_id": "",
       "version_major": 2,
       "version_minor": 0
      },
      "text/plain": [
       "Training:   0%|          | 0/706 [00:00<?, ?it/s]"
      ]
     },
     "metadata": {},
     "output_type": "display_data"
    },
    {
     "name": "stdout",
     "output_type": "stream",
     "text": [
      "Epoch 1/5 - Train Loss: 0.6203, Train Accuracy: 0.2570, Validation Loss: 0.5804, Validation Accuracy: 0.2945, Learning Rate: 0.0001\n"
     ]
    },
    {
     "data": {
      "application/vnd.jupyter.widget-view+json": {
       "model_id": "",
       "version_major": 2,
       "version_minor": 0
      },
      "text/plain": [
       "Training:   0%|          | 0/706 [00:00<?, ?it/s]"
      ]
     },
     "metadata": {},
     "output_type": "display_data"
    },
    {
     "name": "stdout",
     "output_type": "stream",
     "text": [
      "Epoch 2/5 - Train Loss: 0.5728, Train Accuracy: 0.2884, Validation Loss: 0.5617, Validation Accuracy: 0.3085, Learning Rate: 0.0001\n"
     ]
    },
    {
     "data": {
      "application/vnd.jupyter.widget-view+json": {
       "model_id": "",
       "version_major": 2,
       "version_minor": 0
      },
      "text/plain": [
       "Training:   0%|          | 0/706 [00:00<?, ?it/s]"
      ]
     },
     "metadata": {},
     "output_type": "display_data"
    },
    {
     "name": "stdout",
     "output_type": "stream",
     "text": [
      "Epoch 3/5 - Train Loss: 0.5558, Train Accuracy: 0.3086, Validation Loss: 0.5600, Validation Accuracy: 0.3242, Learning Rate: 0.0001\n"
     ]
    },
    {
     "data": {
      "application/vnd.jupyter.widget-view+json": {
       "model_id": "",
       "version_major": 2,
       "version_minor": 0
      },
      "text/plain": [
       "Training:   0%|          | 0/706 [00:00<?, ?it/s]"
      ]
     },
     "metadata": {},
     "output_type": "display_data"
    },
    {
     "name": "stdout",
     "output_type": "stream",
     "text": [
      "Epoch 4/5 - Train Loss: 0.5453, Train Accuracy: 0.3127, Validation Loss: 0.5446, Validation Accuracy: 0.3400, Learning Rate: 0.0001\n"
     ]
    },
    {
     "data": {
      "application/vnd.jupyter.widget-view+json": {
       "model_id": "",
       "version_major": 2,
       "version_minor": 0
      },
      "text/plain": [
       "Training:   0%|          | 0/706 [00:00<?, ?it/s]"
      ]
     },
     "metadata": {},
     "output_type": "display_data"
    },
    {
     "name": "stdout",
     "output_type": "stream",
     "text": [
      "Epoch 5/5 - Train Loss: 0.5341, Train Accuracy: 0.3258, Validation Loss: 0.5432, Validation Accuracy: 0.3284, Learning Rate: 0.0001\n",
      "Total training time: 2.05 minutes\n"
     ]
    }
   ],
   "source": [
    "metrics_path = 'training_metrics(BertLSTM).csv'\n",
    "write_hyperparameters(metrics_path, hyperparams)\n",
    "\n",
    "num_epochs = hyperparams['num_epochs']\n",
    "start_time = time.time()\n",
    "\n",
    "best_val_loss = float('inf')  \n",
    "\n",
    "for epoch in range(num_epochs):\n",
    "    train_loss, train_accuracy = train(model, train_loader, optimizer, criterion, device)\n",
    "    val_loss, val_accuracy = evaluate(model, val_loader, criterion, device)\n",
    "\n",
    "    # Get the current learning rate\n",
    "    current_lr = scheduler.get_last_lr()[0]\n",
    "    \n",
    "    # Update the learning rate after each epoch\n",
    "    scheduler.step()\n",
    "\n",
    "    # Record training metrics and current learning rate in CSV file\n",
    "    with open(metrics_path, mode='a', newline='') as metrics_file:\n",
    "        metrics_writer = csv.writer(metrics_file)\n",
    "        metrics_writer.writerow([epoch + 1, train_loss, train_accuracy, val_loss, val_accuracy, current_lr])\n",
    "\n",
    "    print(f'Epoch {epoch+1}/{num_epochs} - Train Loss: {train_loss:.4f}, Train Accuracy: {train_accuracy:.4f}, Validation Loss: {val_loss:.4f}, Validation Accuracy: {val_accuracy:.4f}, Learning Rate: {current_lr}')\n",
    "    \n",
    "    # Check if current validation loss is better than the best validation loss\n",
    "    if val_loss < best_val_loss:\n",
    "        best_val_loss = val_loss\n",
    "        # Save the best model weights\n",
    "        torch.save(model, 'FYP_LSTM(multiple).pth')\n",
    "\n",
    "end_time = time.time()\n",
    "total_time = (end_time - start_time) / 60\n",
    "print(f'Total training time: {total_time:.2f} minutes')"
   ]
  },
  {
   "cell_type": "code",
   "execution_count": null,
   "id": "babeff94-3cf2-47da-a3e2-6e46bfac659a",
   "metadata": {},
   "outputs": [],
   "source": [
    "# Set up 2-Fold cross validation\n",
    "kf = StratifiedKFold(n_splits=3, shuffle=True, random_state=42)\n",
    "device = torch.device(\"cuda\" if torch.cuda.is_available() else \"cpu\")\n",
    "\n",
    "# Cross-validation process\n",
    "for fold, (train_idx, valid_idx) in enumerate(kf.split(X_train, y_train)):  \n",
    "    train_texts = [X_train[i] for i in train_idx]\n",
    "    train_labels = [y_train[i] for i in train_idx]\n",
    "    valid_texts = [X_train[i] for i in valid_idx]\n",
    "    valid_labels = [y_train[i] for i in valid_idx]\n",
    "\n",
    "    train_subdataset = CustomTextDataset(train_texts, train_labels, tokenizer, max_len=hyperparams['max_len'])\n",
    "    valid_subdataset = CustomTextDataset(valid_texts, valid_labels, tokenizer, max_len=hyperparams['max_len'])\n",
    "\n",
    "    train_loader = DataLoader(train_subdataset, batch_size=hyperparams['batch_size'], shuffle=True)\n",
    "    valid_loader = DataLoader(valid_subdataset, batch_size=hyperparams['batch_size'])\n",
    "\n",
    "    model = BertLSTM(bert_model, hyperparams['lstm_hidden_dim'], len(set(labels))).to(device)\n",
    "    optimizer = Adam(model.parameters(), lr=hyperparams['learning_rate'])\n",
    "    #criterion = CrossEntropyLoss()\n",
    "    criterion = FocalLoss(alpha=hyperparams['alpha'], gamma=hyperparams['gamma'], num_labels=num_labels, reduction=hyperparams['reduction'])\n",
    "    scheduler = StepLR(optimizer, step_size=10, gamma=0.1)\n",
    "\n",
    "\n",
    "    for epoch in range(hyperparams['num_epochs']):\n",
    "        train_loss, train_accuracy = train(model, train_loader, optimizer, criterion, device)\n",
    "        valid_loss, valid_accuracy = evaluate(model, valid_loader, criterion, device)\n",
    "        scheduler.step()\n",
    "\n",
    "        print(f'Fold {fold+1}, Epoch {epoch+1}, Train Loss: {train_loss:.4f}, Train Accuracy: {train_accuracy:.4f}, Valid Loss: {valid_loss:.4f}, Valid Accuracy: {valid_accuracy:.4f}')\n"
   ]
  },
  {
   "cell_type": "code",
   "execution_count": null,
   "id": "2ed0d0e9-cde7-44cd-95fb-a8cc3c054b80",
   "metadata": {},
   "outputs": [],
   "source": [
    "# Grid search \n",
    "param_grid = {\n",
    "    'lstm_hidden_dim': [64, 128],\n",
    "    'batch_size': [8, 16],\n",
    "    'learning_rate': [0.001, 0.0001],\n",
    "    'alpha': [0.25, 0.50],\n",
    "    'gamma': [1.0, 2.0],\n",
    "    'max_len': [128, 256]  \n",
    "}\n",
    "grid = ParameterGrid(param_grid)\n",
    "\n",
    "best_model = None\n",
    "best_accuracy = 0\n",
    "best_params = None\n",
    "\n",
    "for params in grid:\n",
    "    print(\"Testing configuration:\", params)\n",
    "    train_dataset = CustomTextDataset(X_train, y_train, tokenizer, max_len=params['max_len'])\n",
    "    test_dataset = CustomTextDataset(X_test, y_test, tokenizer, max_len=params['max_len'])\n",
    "    train_loader = DataLoader(train_dataset, batch_size=params['batch_size'], shuffle=True)\n",
    "    valid_loader = DataLoader(test_dataset, batch_size=params['batch_size'])\n",
    "\n",
    "    model = BertLSTM(bert_model, params['lstm_hidden_dim'], len(set(labels))).to(device)\n",
    "    optimizer = Adam(model.parameters(), lr=params['learning_rate'])\n",
    "    criterion = FocalLoss(alpha=params['alpha'], gamma=params['gamma'], num_labels=len(set(labels)), reduction='mean')\n",
    "    scheduler = StepLR(optimizer, step_size=10, gamma=0.1)\n",
    "\n",
    "    kf = StratifiedKFold(n_splits=2, shuffle=True, random_state=42)\n",
    "    fold_acc = []\n",
    "    for fold, (train_idx, valid_idx) in enumerate(kf.split(X_train, y_train)):\n",
    "        # Cross Validation\n",
    "        train_texts = [X_train[i] for i in train_idx]\n",
    "        train_labels = [y_train[i] for i in train_idx]\n",
    "        valid_texts = [X_train[i] for i in valid_idx]\n",
    "        valid_labels = [y_train[i] for i in valid_idx]\n",
    "\n",
    "        # Initialize the dataset\n",
    "        train_subdataset = CustomTextDataset(train_texts, train_labels, tokenizer, max_len=params['max_len'])\n",
    "        valid_subdataset = CustomTextDataset(valid_texts, valid_labels, tokenizer, max_len=params['max_len'])\n",
    "\n",
    "        train_loader = DataLoader(train_subdataset, batch_size=params['batch_size'], shuffle=True)\n",
    "        valid_loader = DataLoader(valid_subdataset, batch_size=params['batch_size'])\n",
    "\n",
    "        for epoch in range(3):  #Adjust the number of epochs as needed\n",
    "            train_loss, train_accuracy = train(model, train_loader, optimizer, criterion, device)\n",
    "            valid_loss, valid_accuracy = evaluate(model, valid_loader, criterion, device)\n",
    "            scheduler.step()\n",
    "\n",
    "            print(f'Fold {fold+1}, Epoch {epoch+1}, Train Loss: {train_loss:.4f}, Train Accuracy: {train_accuracy:.4f}, Valid Loss: {valid_loss:.4f}, Valid Accuracy: {valid_accuracy:.4f}')\n",
    "        \n",
    "        fold_acc.append(valid_accuracy)\n",
    "\n",
    "    avg_accuracy = sum(fold_acc) / len(fold_acc)\n",
    "    if avg_accuracy > best_accuracy:\n",
    "        best_accuracy = avg_accuracy\n",
    "        best_model = model\n",
    "        best_params = params\n",
    "\n",
    "print(\"Best Accuracy:\", best_accuracy)\n",
    "print(\"Best Params:\", best_params)"
   ]
  },
  {
   "cell_type": "code",
   "execution_count": null,
   "id": "6cc0974b-a25c-4c6b-99b0-821cdbd84f6f",
   "metadata": {},
   "outputs": [],
   "source": [
    "# Save the entire model \n",
    "model_save_path = 'FYP_LSTM(multiple).pth'\n",
    "torch.save(model, model_save_path)"
   ]
  },
  {
   "cell_type": "code",
   "execution_count": null,
   "id": "60e964e2-1b36-48f8-92f9-0e3895c075b2",
   "metadata": {},
   "outputs": [],
   "source": [
    "# Test the model\n",
    "test_loss, test_accuracy = evaluate(model, test_loader, criterion, device)\n",
    "print(f'Test Loss: {test_loss}, Test Accuracy: {test_accuracy}')"
   ]
  },
  {
   "cell_type": "code",
   "execution_count": null,
   "id": "bae7cac8-98e6-4e0d-a0b9-d1255ba26506",
   "metadata": {},
   "outputs": [],
   "source": [
    "import json\n",
    "\n",
    "label_map_path = 'label_map.json'\n",
    "with open(label_map_path, 'w') as file:\n",
    "    json.dump(label_map, file)\n",
    "\n",
    "print(f\"Label map saved to {label_map_path}\")"
   ]
  },
  {
   "cell_type": "code",
   "execution_count": 41,
   "id": "2ccaf243-69e2-4dd2-836a-595fc7a654ea",
   "metadata": {},
   "outputs": [
    {
     "data": {
      "image/png": "[encoded data removed]",
      "text/plain": [
       "<Figure size 1000x500 with 1 Axes>"
      ]
     },
     "metadata": {},
     "output_type": "display_data"
    },
    {
     "data": {
      "image/png": "[encoded data removed]",
      "text/plain": [
       "<Figure size 1000x500 with 1 Axes>"
      ]
     },
     "metadata": {},
     "output_type": "display_data"
    }
   ],
   "source": [
    "import pandas as pd\n",
    "import matplotlib.pyplot as plt\n",
    "\n",
    "#Read performance metrics csv file\n",
    "df = pd.read_csv('training_metrics(BertLSTM).csv',header=9)\n",
    "\n",
    "# Plot training loss and validation loss\n",
    "plt.figure(figsize=(10, 5))\n",
    "plt.plot(df['Epoch'], df['Train Loss'], label='Train Loss')\n",
    "plt.plot(df['Epoch'], df['Validation Loss'], label='Validation Loss')\n",
    "plt.xlabel('Epoch')\n",
    "plt.ylabel('Loss')\n",
    "plt.title('Training and Validation Loss')\n",
    "plt.legend()\n",
    "plt.grid(True)\n",
    "plt.show()\n",
    "\n",
    "# Draw model accuracy\n",
    "plt.figure(figsize=(10, 5))\n",
    "plt.plot(df['Epoch'], df['Train Accuracy'], label='Train Accuracy', color='blue')\n",
    "plt.plot(df['Epoch'], df['Validation Accuracy'], label='Validation Accuracy', color='orange')\n",
    "plt.xlabel('Epoch')\n",
    "plt.ylabel('Accuracy')\n",
    "plt.title('Training and Validation Accuracy')\n",
    "plt.legend()\n",
    "plt.grid(True)\n",
    "plt.show()"
   ]
  }
 ],
 "metadata": {
  "kernelspec": {
   "display_name": "Python 3 (ipykernel)",
   "language": "python",
   "name": "python3"
  },
  "language_info": {
   "codemirror_mode": {
    "name": "ipython",
    "version": 3
   },
   "file_extension": ".py",
   "mimetype": "text/x-python",
   "name": "python",
   "nbconvert_exporter": "python",
   "pygments_lexer": "ipython3",
   "version": "3.11.7"
  }
 },
 "nbformat": 4,
 "nbformat_minor": 5
}
